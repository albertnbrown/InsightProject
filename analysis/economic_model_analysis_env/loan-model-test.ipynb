{
 "cells": [
  {
   "cell_type": "code",
   "execution_count": 3,
   "metadata": {},
   "outputs": [],
   "source": [
    "import numpy as np\n",
    "import sys\n",
    "import scipy\n",
    "from scipy.optimize import curve_fit\n",
    "from scipy.stats import unitary_group\n",
    "import time as t\n",
    "import matplotlib.pyplot as plt\n",
    "np.set_printoptions(precision=2, linewidth=100)\n"
   ]
  },
  {
   "cell_type": "code",
   "execution_count": null,
   "metadata": {},
   "outputs": [],
   "source": [
    "class DecisionTree():\n",
    "    def __init__(self, data = None):\n",
    "        self.nodes = []\n",
    "        self.data = data\n",
    "        \n",
    "#define the decision tree of the game\n",
    "class LoanGameTree():\n",
    "    def __init__(self):\n",
    "        root = DecisionTree([\"lender\",\"creation -> funding -> giving\"])\n",
    "        root.nodes.append(DecisionTree([\"lender\",\"lender cheat give\"]))\n",
    "        root.nodes[0].nodes.append(DecisionTree([\"exit\",\"blameCannotGive(0)\"]))\n",
    "        root.nodes[0].nodes.append(DecisionTree([\"exit\",\"blameRenterRecieved(0)\"]))\n",
    "        root.nodes[0].nodes.append(DecisionTree([\"exit\",\"abortCouldntGive(0)\"]))\n",
    "        root.nodes.append(DecisionTree([\"exit\",\"abortTimeoutGiving()\"]))\n",
    "        root.nodes.append(DecisionTree([\"renter\",\"lender truth give\"]))\n",
    "        root.nodes[2].nodes.append(DecisionTree([\"lender\",\"renter cheat get\"]))\n",
    "        root.nodes[2].nodes[0].nodes.append(DecisionTree([\"exit\",\"blameCannotGive(1)\"]))\n",
    "        root.nodes[2].nodes[0].nodes.append(DecisionTree([\"exit\",\"blameRenterRecieved(1)\"]))\n",
    "        root.nodes[2].nodes[0].nodes.append(DecisionTree([\"exit\",\"abortCouldntGive(1)\"]))\n",
    "        root.nodes[2].nodes.append(DecisionTree([\"lender\",\"renter truth get\"]))\n",
    "        root.nodes[2].nodes[1].nodes.append(DecisionTree([\"exit\",\"abortTimeoutForcePurchase()\"]))\n",
    "        root.nodes[2].nodes[1].nodes.append(DecisionTree([\"renter\",\"lender try to return\"]))\n",
    "        root.nodes[2].nodes[1].nodes[1].nodes.append(DecisionTree([\"lender\",\"renter cheat\"]))\n",
    "        root.nodes[2].nodes[1].nodes[1].nodes[0].nodes.append(DecisionTree([\"exit\",\"blameFalseReturn(1)\"]))\n",
    "        root.nodes[2].nodes[1].nodes[1].nodes[0].nodes.append(DecisionTree([\"exit\",\"Finalize(1)\"]))\n",
    "        root.nodes[2].nodes[1].nodes[1].nodes.append(DecisionTree([\"exit\",\"abortTimeoutForcePurchase()\"]))\n",
    "        root.nodes[2].nodes[1].nodes[1].nodes.append(DecisionTree([\"lender\",\"renter truth\"]))\n",
    "        root.nodes[2].nodes[1].nodes[1].nodes[2].nodes.append(DecisionTree([\"exit\",\"blameFalseReturn(0)\"]))\n",
    "        root.nodes[2].nodes[1].nodes[1].nodes[2].nodes.append(DecisionTree([\"exit\",\"Finalize(0)\"]))\n",
    "        \n",
    "        \n",
    "        "
   ]
  },
  {
   "cell_type": "code",
   "execution_count": null,
   "metadata": {},
   "outputs": [],
   "source": [
    "players = 10\n",
    "\n",
    "lenders = np.zeros((players,2))\n",
    "renters = np.zeros((players,2))\n"
   ]
  }
 ],
 "metadata": {
  "kernelspec": {
   "display_name": "Python 3",
   "language": "python",
   "name": "python3"
  },
  "language_info": {
   "codemirror_mode": {
    "name": "ipython",
    "version": 3
   },
   "file_extension": ".py",
   "mimetype": "text/x-python",
   "name": "python",
   "nbconvert_exporter": "python",
   "pygments_lexer": "ipython3",
   "version": "3.6.9"
  }
 },
 "nbformat": 4,
 "nbformat_minor": 4
}
