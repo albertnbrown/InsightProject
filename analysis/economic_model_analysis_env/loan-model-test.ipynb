{
 "cells": [
  {
   "cell_type": "code",
   "execution_count": 3,
   "metadata": {},
   "outputs": [],
   "source": [
    "import numpy as np\n",
    "import sys\n",
    "import scipy\n",
    "from scipy.optimize import curve_fit\n",
    "from scipy.stats import unitary_group\n",
    "import time as t\n",
    "import matplotlib.pyplot as plt\n",
    "np.set_printoptions(precision=2, linewidth=100)\n"
   ]
  },
  {
   "cell_type": "code",
   "execution_count": 5,
   "metadata": {},
   "outputs": [],
   "source": [
    "class DecisionTree():\n",
    "    def __init__(self, data = None):\n",
    "        self.nodes = []\n",
    "        self.data = data\n",
    "        \n",
    "#define the decision tree of the game\n",
    "class LoanGameTree():\n",
    "    def __init__(self):\n",
    "        self.root = DecisionTree([\"lender\",\"creation -> funding -> giving\"])\n",
    "        self.root.nodes.append(DecisionTree([\"renter\",\"lender cheat give\"]))\n",
    "        self.root.nodes[0].nodes.append(DecisionTree([\"lender\",\"lender cheat give\"]))\n",
    "        self.root.nodes[0].nodes[0].nodes.append(DecisionTree([\"exit\",\"blameCannotGive(0)\"]))\n",
    "        self.root.nodes[0].nodes[0].nodes.append(DecisionTree([\"exit\",\"blameRenterRecieved(0)\"]))\n",
    "        self.root.nodes[0].nodes[0].nodes.append(DecisionTree([\"exit\",\"abortCouldntGive(0)\"]))\n",
    "        self.root.nodes.append(DecisionTree([\"exit\",\"abortTimeoutGiving()\"]))\n",
    "        self.root.nodes.append(DecisionTree([\"renter\",\"lender truth give\"]))\n",
    "        self.root.nodes[2].nodes.append(DecisionTree([\"lender\",\"renter cheat get\"]))\n",
    "        self.root.nodes[2].nodes[0].nodes.append(DecisionTree([\"exit\",\"blameCannotGive(1)\"]))\n",
    "        self.root.nodes[2].nodes[0].nodes.append(DecisionTree([\"exit\",\"blameRenterRecieved(1)\"]))\n",
    "        self.root.nodes[2].nodes[0].nodes.append(DecisionTree([\"exit\",\"abortCouldntGive(1)\"]))\n",
    "        self.root.nodes[2].nodes.append(DecisionTree([\"lender\",\"renter truth get\"]))\n",
    "        self.root.nodes[2].nodes[1].nodes.append(DecisionTree([\"exit\",\"abortTimeoutForcePurchase()\"]))\n",
    "        self.root.nodes[2].nodes[1].nodes.append(DecisionTree([\"renter\",\"lender try to return\"]))\n",
    "        self.root.nodes[2].nodes[1].nodes[1].nodes.append(DecisionTree([\"lender\",\"renter cheat\"]))\n",
    "        self.root.nodes[2].nodes[1].nodes[1].nodes[0].nodes.append(DecisionTree([\"exit\",\"blameFalseReturn(1)\"]))\n",
    "        self.root.nodes[2].nodes[1].nodes[1].nodes[0].nodes.append(DecisionTree([\"exit\",\"Finalize(1)\"]))\n",
    "        self.root.nodes[2].nodes[1].nodes[1].nodes.append(DecisionTree([\"exit\",\"abortTimeoutForcePurchase()\"]))\n",
    "        self.root.nodes[2].nodes[1].nodes[1].nodes.append(DecisionTree([\"lender\",\"renter truth\"]))\n",
    "        self.root.nodes[2].nodes[1].nodes[1].nodes[2].nodes.append(DecisionTree([\"exit\",\"blameFalseReturn(0)\"]))\n",
    "        self.root.nodes[2].nodes[1].nodes[1].nodes[2].nodes.append(DecisionTree([\"exit\",\"Finalize(0)\"]))\n",
    "        \n",
    "class LenderStrategy():\n",
    "    def __init__(self):\n",
    "        self.weightsList = np.zeros((3,8))\n",
    "        self.runningTotal = 0\n",
    "        \n",
    "        \n",
    "class RenterStrategy():\n",
    "    def __init__(self):\n",
    "        self.weightsList = np.zeros((2,3))\n",
    "        self.runningTotal = 0"
   ]
  },
  {
   "cell_type": "code",
   "execution_count": 6,
   "metadata": {},
   "outputs": [],
   "source": [
    "players = 10\n",
    "Beta = 1\n",
    "\n",
    "lenders = [RenterStrategy() for i in range(players)]\n",
    "renters = [LenderStrategy() for i in range(players)]\n",
    "\n",
    "#remember to look up the metropolis equation\n"
   ]
  },
  {
   "cell_type": "code",
   "execution_count": null,
   "metadata": {},
   "outputs": [],
   "source": []
  }
 ],
 "metadata": {
  "kernelspec": {
   "display_name": "Python 3",
   "language": "python",
   "name": "python3"
  },
  "language_info": {
   "codemirror_mode": {
    "name": "ipython",
    "version": 3
   },
   "file_extension": ".py",
   "mimetype": "text/x-python",
   "name": "python",
   "nbconvert_exporter": "python",
   "pygments_lexer": "ipython3",
   "version": "3.6.9"
  }
 },
 "nbformat": 4,
 "nbformat_minor": 4
}
